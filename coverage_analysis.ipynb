{
 "cells": [
  {
   "cell_type": "code",
   "execution_count": 94,
   "metadata": {},
   "outputs": [],
   "source": [
    "import os\n",
    "import numpy as np\n",
    "import pandas as pd\n",
    "import seaborn as sns\n",
    "import math\n",
    "import json\n",
    "from scipy import stats\n",
    "from pathlib import Path\n",
    "from statistics import mean\n",
    "\n",
    "import matplotlib\n",
    "# matplotlib.rcParams['pdf.fonttype'] = 42\n",
    "# matplotlib.rcParams['ps.fonttype'] = 42\n",
    "import matplotlib.pyplot as plt\n",
    "# plt.rc('font', family='Times New Roman')\n",
    "\n",
    "# # plot set start\n",
    "palette = sns.color_palette(\"tab10\")\n",
    "# sns.set_theme(font='Times New Roman', font_scale=1.5)\n",
    "# sns.set_style(\"white\")"
   ]
  },
  {
   "cell_type": "code",
   "execution_count": 95,
   "metadata": {},
   "outputs": [],
   "source": [
    "def loadAllJson(expDir: Path):\n",
    "    print(expDir.stem)\n",
    "    allResults = []\n",
    "    for dirPath in expDir.glob('*'):\n",
    "        print(dirPath)\n",
    "        idParas = dirPath.name.split('_slvr')\n",
    "        id = idParas[0]\n",
    "        \n",
    "        solverNameParas = idParas[-1].split('_ds')\n",
    "        solverName = solverNameParas[0]\n",
    "        \n",
    "        downsampleParas = solverNameParas[-1].split('_L')\n",
    "        downsample = downsampleParas[0]\n",
    "        \n",
    "        LSizeParas = downsampleParas[-1].split('_k')\n",
    "        LSize = LSizeParas[0]\n",
    "        \n",
    "        kmaxParas = LSizeParas[-1].split('_ch')\n",
    "        kmax = kmaxParas[0]\n",
    "\n",
    "        chunkSizeParas = kmaxParas[-1].split('_r')\n",
    "        chunkSize = chunkSizeParas[0]\n",
    "        \n",
    "        rrParas = chunkSizeParas[-1].split('_thr')\n",
    "        rr = rrParas[0]\n",
    "\n",
    "        # threshold_coverageParas = rrParas[-1].split('_pose')\n",
    "        threshold_coverage = rrParas[1]\n",
    "\n",
    "        # poseParas = threshold_coverageParas[-1].split('_')\n",
    "        # pose = poseParas[0]\n",
    "\n",
    "        # fileDf['id'] = id\n",
    "        # fileDf['solverName'] = solverName\n",
    "        # fileDf['downsample'] = downsample\n",
    "        # fileDf['LSize'] = LSize\n",
    "        # fileDf['kmax'] = kmax\n",
    "        # fileDf['chunkSize'] = chunkSize\n",
    "        # fileDf['rr'] = rr\n",
    "        # fileDf['threshold_coverage'] = threshold_coverage\n",
    "        # fileDf['pose'] = pose\n",
    "\n",
    "\n",
    "        numOfFile = len([i for i in (dirPath/'results').glob('*')])\n",
    "        totalNum = 0\n",
    "        sumOfFirstOrderDiff = 0\n",
    "        sumOfSecondOrderDiff = 0\n",
    "\n",
    "        for fileNum in range(numOfFile):\n",
    "            filePath = dirPath/'results'/f'log_{fileNum}.json'\n",
    "            with open(filePath) as f:\n",
    "                data = json.load(f)\n",
    "            numOfSv = len(data['sol'])\n",
    "            \n",
    "            totalNum = totalNum + numOfSv\n",
    "            sumOfFirstOrderDiff = sumOfFirstOrderDiff + calSum(data['coverage_estimated_first_order_diff'])\n",
    "            sumOfSecondOrderDiff = sumOfSecondOrderDiff + calSum(data['coverage_estimated_second_order_diff'])\n",
    "            \n",
    "        averageFirstOrderDiff = sumOfFirstOrderDiff/totalNum\n",
    "        averageSecondOrderDiff = sumOfSecondOrderDiff/totalNum\n",
    "\n",
    "        # print(f'First: {averageFirstOrderDiff}')\n",
    "        # print(f'Second: {averageSecondOrderDiff}')\n",
    "        print([id,solverName,downsample,LSize,kmax,chunkSize,rr,threshold_coverage,averageFirstOrderDiff,averageSecondOrderDiff])\n",
    "        allResults.append([id,solverName,downsample,LSize,kmax,chunkSize,rr,threshold_coverage,averageFirstOrderDiff,averageSecondOrderDiff])\n",
    "    allDf = pd.DataFrame(allResults)\n",
    "    allDf.to_csv(f'{expDir.stem}_allResults.csv', header=['id','solverName','downsample','LSize','kmax','chunkSize','rr','threshold_coverage','averageFirstOrderDiff','averageSecondOrderDiff'],index=None)"
   ]
  },
  {
   "cell_type": "code",
   "execution_count": 96,
   "metadata": {},
   "outputs": [],
   "source": [
    "def calSum(arr: list):\n",
    "    sum = 0\n",
    "    for i in arr:\n",
    "        sum = sum + abs(float(i))\n",
    "    return sum"
   ]
  },
  {
   "cell_type": "code",
   "execution_count": 97,
   "metadata": {},
   "outputs": [],
   "source": [
    "def allCoverageResultAverage(filePath: Path):\n",
    "    '''\n",
    "    Get all the average result value from different id\n",
    "    '''\n",
    "    expName = filePath.stem.split('_allResults')[0]\n",
    "    \n",
    "    doplot = True\n",
    "\n",
    "    df = pd.read_csv(filePath)\n",
    "    resultDf = df\n",
    "\n",
    "    savePath = Path(f'./img/allCoverageResultAverage')\n",
    "\n",
    "    # first order\n",
    "    ax = sns.barplot(x='kmax', y=f'averageFirstOrderDiff', data=resultDf, palette=palette)\n",
    "    ax.set(xlabel=\"kmax\", ylabel=f\"First Order Difference\")\n",
    "    # plt.legend(title=\"\")\n",
    "    # plt.xticks(rotation=-90)\n",
    "    # plt.xticks(range(0,91,30))\n",
    "    # plt.xlim((0,90))\n",
    "    # plt.ylim((0,33))\n",
    "\n",
    "    savePath.mkdir(parents=True, exist_ok=True)\n",
    "    saveFilename = savePath/f'{expName}_diffKmax_firstOrder'\n",
    "    \n",
    "    if doplot:\n",
    "        # plt.savefig(f'{saveFilename}.eps', dpi=300, pad_inches=0, bbox_inches='tight')\n",
    "        plt.savefig(f'{saveFilename}.png', dpi=300, pad_inches=0, bbox_inches='tight')\n",
    "        # plt.savefig(f'./img/frame_to_frame_quality/psnr_frame_pose_in_6x6_ArchVizInterior_rec20_AdditiveSynthesizer_all_pose.eps', dpi=300)\n",
    "        # plt.savefig(f'./img/frame_to_frame_quality/psnr_frame_pose_in_6x6_ArchVizInterior_rec20_AdditiveSynthesizer_all_pose.png', dpi=300)\n",
    "    plt.show()\n",
    "\n",
    "    # second order\n",
    "    ax = sns.barplot(x='kmax', y=f'averageSecondOrderDiff', data=resultDf, palette=palette)\n",
    "    ax.set(xlabel=\"kmax\", ylabel=f\"Second Order Difference\")\n",
    "    # plt.legend(title=\"\")\n",
    "    # plt.xticks(rotation=-90)\n",
    "    # plt.xticks(range(0,91,30))\n",
    "    # plt.xlim((0,90))\n",
    "    # plt.ylim((0,33))\n",
    "\n",
    "    savePath.mkdir(parents=True, exist_ok=True)\n",
    "    saveFilename = savePath/f'{expName}_diffKmax_secondOrder'\n",
    "    \n",
    "    if doplot:\n",
    "        # plt.savefig(f'{saveFilename}.eps', dpi=300, pad_inches=0, bbox_inches='tight')\n",
    "        plt.savefig(f'{saveFilename}.png', dpi=300, pad_inches=0, bbox_inches='tight')\n",
    "        # plt.savefig(f'./img/frame_to_frame_quality/psnr_frame_pose_in_6x6_ArchVizInterior_rec20_AdditiveSynthesizer_all_pose.eps', dpi=300)\n",
    "        # plt.savefig(f'./img/frame_to_frame_quality/psnr_frame_pose_in_6x6_ArchVizInterior_rec20_AdditiveSynthesizer_all_pose.png', dpi=300)\n",
    "    plt.show()\n"
   ]
  },
  {
   "cell_type": "code",
   "execution_count": 98,
   "metadata": {},
   "outputs": [
    {
     "data": {
      "image/png": "[encoded data removed]",
      "text/plain": [
       "<Figure size 432x288 with 1 Axes>"
      ]
     },
     "metadata": {
      "needs_background": "light"
     },
     "output_type": "display_data"
    },
    {
     "data": {
      "image/png": "[encoded data removed]",
      "text/plain": [
       "<Figure size 432x288 with 1 Axes>"
      ]
     },
     "metadata": {
      "needs_background": "light"
     },
     "output_type": "display_data"
    }
   ],
   "source": [
    "if __name__ == '__main__':\n",
    "    # expDir = Path('./exp11')\n",
    "    # loadAllJson(expDir)\n",
    "\n",
    "    # allResultFilePathGen = Path('.').glob('*_allResults.csv')\n",
    "    allResultFilePath = Path('./exp11_allResults.csv')\n",
    "    allCoverageResultAverage(allResultFilePath)\n",
    "    # allResultAverageCDF(allResultFilePath)\n",
    "    # allResultAveragePose(allResultFilePath)\n",
    "    # allFrameByFrame(allResultFilePath)\n",
    "    # slvrAllPoseFrameByFrame(allResultFilePath)\n",
    "    # NSAkmax(allResultFilePath)\n",
    "    # NSA2kmax(allResultFilePath)\n",
    "    # NSA_NSA2(allResultFilePath)\n",
    "    # NSA_NSA2_NSA2Relaxed(allResultFilePath)\n",
    "    # compareDS(allResultFilePathGen)\n",
    "    # slvrNSANSA2FrameByFrame(allResultFilePath)\n",
    "    # slvrNSANSA2AllPoseFrameByFrame(allResultFilePath)\n",
    "\n",
    "    # resultFilePath1 = Path('./exp6_allResults.csv')\n",
    "    # resultFilePath2 = Path('./exp7_allResults.csv')\n",
    "    # diffKmaxCDF(resultFilePath1, resultFilePath2)\n",
    "\n",
    "    # resultFilePath1 = Path('./exp5_allResults.csv')\n",
    "    # resultFilePath2 = Path('./exp7_allResults.csv')\n",
    "    # mergeCsv(resultFilePath1,resultFilePath2,'exp5_exp7')\n",
    "\n",
    "    \n",
    "    "
   ]
  }
 ],
 "metadata": {
  "interpreter": {
   "hash": "5c2c9fc6def141c5d7886acf6828237b63d7ab5763dfef75550144d532709142"
  },
  "kernelspec": {
   "display_name": "Python 3.8.8 ('base')",
   "language": "python",
   "name": "python3"
  },
  "language_info": {
   "codemirror_mode": {
    "name": "ipython",
    "version": 3
   },
   "file_extension": ".py",
   "mimetype": "text/x-python",
   "name": "python",
   "nbconvert_exporter": "python",
   "pygments_lexer": "ipython3",
   "version": "3.8.8"
  },
  "orig_nbformat": 4
 },
 "nbformat": 4,
 "nbformat_minor": 2
}
